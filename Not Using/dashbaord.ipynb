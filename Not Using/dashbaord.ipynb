{
 "cells": [
  {
   "cell_type": "code",
   "execution_count": 2,
   "id": "a8ee2f1f",
   "metadata": {},
   "outputs": [
    {
     "name": "stderr",
     "output_type": "stream",
     "text": [
      "C:\\Users\\deols\\AppData\\Local\\Temp\\ipykernel_15648\\2949998555.py:9: FutureWarning:\n",
      "\n",
      "'S' is deprecated and will be removed in a future version, please use 's' instead.\n",
      "\n"
     ]
    },
    {
     "data": {
      "text/html": [
       "\n",
       "        <iframe\n",
       "            width=\"100%\"\n",
       "            height=\"650\"\n",
       "            src=\"http://127.0.0.1:8050/\"\n",
       "            frameborder=\"0\"\n",
       "            allowfullscreen\n",
       "            \n",
       "        ></iframe>\n",
       "        "
      ],
      "text/plain": [
       "<IPython.lib.display.IFrame at 0x2302ba852b0>"
      ]
     },
     "metadata": {},
     "output_type": "display_data"
    }
   ],
   "source": [
    "import dash\n",
    "from dash import dcc, html\n",
    "import plotly.express as px\n",
    "import pandas as pd\n",
    "import numpy as np\n",
    "\n",
    "# Sample demo data\n",
    "np.random.seed(42)\n",
    "time = pd.date_range(\"2025-01-01\", periods=100, freq=\"S\")\n",
    "data = pd.DataFrame({\n",
    "    \"Time\": time,\n",
    "    \"Throughput\": np.random.uniform(10, 50, size=100),\n",
    "    \"RTT\": np.random.uniform(20, 100, size=100),\n",
    "    \"LossRate\": np.random.uniform(0, 5, size=100)\n",
    "})\n",
    "\n",
    "# Initialize Dash app\n",
    "app = dash.Dash(__name__)\n",
    "app.title = \"TCP Metrics Dashboard\"\n",
    "\n",
    "# Layout\n",
    "app.layout = html.Div([\n",
    "    html.H1(\"TCP Metrics Dashboard\", style={\"textAlign\": \"center\"}),\n",
    "\n",
    "    dcc.Graph(\n",
    "        id=\"throughput-graph\",\n",
    "        figure=px.line(data, x=\"Time\", y=\"Throughput\", title=\"Throughput (Mbps)\", markers=True)\n",
    "    ),\n",
    "\n",
    "    dcc.Graph(\n",
    "        id=\"rtt-graph\",\n",
    "        figure=px.line(data, x=\"Time\", y=\"RTT\", title=\"RTT (ms)\", markers=True)\n",
    "    ),\n",
    "\n",
    "    dcc.Graph(\n",
    "        id=\"lossrate-graph\",\n",
    "        figure=px.line(data, x=\"Time\", y=\"LossRate\", title=\"Loss Rate (%)\", markers=True)\n",
    "    ),\n",
    "])\n",
    "\n",
    "# Run server\n",
    "if __name__ == \"__main__\":\n",
    "    app.run(debug=True)\n",
    "\n"
   ]
  }
 ],
 "metadata": {
  "kernelspec": {
   "display_name": "viz",
   "language": "python",
   "name": "python3"
  },
  "language_info": {
   "codemirror_mode": {
    "name": "ipython",
    "version": 3
   },
   "file_extension": ".py",
   "mimetype": "text/x-python",
   "name": "python",
   "nbconvert_exporter": "python",
   "pygments_lexer": "ipython3",
   "version": "3.12.11"
  }
 },
 "nbformat": 4,
 "nbformat_minor": 5
}
